{
 "cells": [
  {
   "cell_type": "code",
   "execution_count": null,
   "metadata": {},
   "outputs": [],
   "source": [
    "# Основные\n",
    "from osgeo import gdal\n",
    "from osgeo import ogr\n",
    "from osgeo import osr\n",
    "from osgeo import gdal_array\n",
    "from osgeo import gdalconst\n"
   ]
  },
  {
   "cell_type": "code",
   "execution_count": 2,
   "metadata": {},
   "outputs": [
    {
     "name": "stdout",
     "output_type": "stream",
     "text": [
      "Driver short name GTiff\n",
      "Driver long name GeoTIFF\n",
      "Raster size 3104 x 20451\n",
      "Number of bands 1\n",
      "Projection \n",
      "Geo transform (0.0, 1.0, 0.0, 0.0, 0.0, 1.0)\n",
      "Wall time: 255 ms\n"
     ]
    }
   ],
   "source": [
    "%%time\n",
    "\n",
    "# блок T1\n",
    "\n",
    "# gdalData = gdal.Open( \"/home/pavel/test/0041_0102_01085_1_01084_03_32_1.tif\" )\n",
    "\n",
    "\n",
    "gdalData = gdal.Open( \"E:\\\\KADR\\\\0041_0102_01085_1_01084_03_32_1.tif\" )\n",
    "\n",
    "\n",
    "# проверяем все ли в порядке\n",
    "if gdalData is None:\n",
    "    print \"ERROR: can't open raster\"\n",
    "else:\n",
    "    print \"Driver short name\", gdalData.GetDriver().ShortName\n",
    "    print \"Driver long name\", gdalData.GetDriver().LongName\n",
    "    print \"Raster size\", gdalData.RasterXSize, \"x\", gdalData.RasterYSize\n",
    "    print \"Number of bands\", gdalData.RasterCount\n",
    "    print \"Projection\", gdalData.GetProjection()\n",
    "    print \"Geo transform\", gdalData.GetGeoTransform()\n"
   ]
  },
  {
   "cell_type": "code",
   "execution_count": 3,
   "metadata": {},
   "outputs": [
    {
     "name": "stdout",
     "output_type": "stream",
     "text": [
      "Wall time: 993 ms\n"
     ]
    }
   ],
   "source": [
    "%%time\n",
    "\n",
    "# блок T2\n",
    "\n",
    "# получаем весь растр целиком\n",
    "#raster = gdalData.ReadAsArray()\n",
    "# получаем отдельный канал\n",
    "# получаем отдельный канал\n",
    "gdalBand = gdalData.GetRasterBand( 1 )\n",
    "band_1 = gdalBand.ReadAsArray()\n",
    "\n",
    "# размер растра\n",
    "xsize = gdalData.RasterXSize\n",
    "ysize = gdalData.RasterYSize\n"
   ]
  },
  {
   "cell_type": "code",
   "execution_count": 4,
   "metadata": {},
   "outputs": [
    {
     "name": "stdout",
     "output_type": "stream",
     "text": [
      "Wall time: 2min 8s\n"
     ]
    }
   ],
   "source": [
    "%%time\n",
    "\n",
    "# блок T3\n",
    "\n",
    "# получаем растр в виде массива\n",
    "#raster = gdalData.ReadAsArray()\n",
    "\n",
    "# перебираем все пиксели растра\n",
    "for col in xrange ( xsize ):\n",
    "    for row in xrange( ysize ):\n",
    "        # если значение пикселя равно 5, то меняем его на 10\n",
    "        # иначе значение остается без изменений\n",
    "        if band_1[ row, col ] == 5:\n",
    "            band_1[ row, col ] = 10\n"
   ]
  }
 ],
 "metadata": {
  "anaconda-cloud": {},
  "kernelspec": {
   "display_name": "Python 2",
   "language": "python",
   "name": "python2"
  },
  "language_info": {
   "codemirror_mode": {
    "name": "ipython",
    "version": 2
   },
   "file_extension": ".py",
   "mimetype": "text/x-python",
   "name": "python",
   "nbconvert_exporter": "python",
   "pygments_lexer": "ipython2",
   "version": "2.7.14"
  }
 },
 "nbformat": 4,
 "nbformat_minor": 1
}
